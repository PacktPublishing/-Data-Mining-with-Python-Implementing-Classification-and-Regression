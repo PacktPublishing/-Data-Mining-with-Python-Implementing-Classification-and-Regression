{
 "cells": [
  {
   "cell_type": "markdown",
   "metadata": {},
   "source": [
    "#Import Python Data mining Libraries"
   ]
  },
  {
   "cell_type": "code",
   "execution_count": 2,
   "metadata": {
    "collapsed": true
   },
   "outputs": [],
   "source": [
    "import pandas as pd\n",
    "from sklearn import linear_model"
   ]
  },
  {
   "cell_type": "markdown",
   "metadata": {},
   "source": [
    "# Loading Dataset"
   ]
  },
  {
   "cell_type": "code",
   "execution_count": 4,
   "metadata": {
    "collapsed": false
   },
   "outputs": [
    {
     "name": "stdout",
     "output_type": "stream",
     "text": [
      "50\n",
      "['Episode', 'Character1_appeared', 'Character2_appeared', 'Character3_appeared', 'Character4_appeared', 'Character5_appeared', 'Fight_scenes', 'Comedy_scences', 'Romance_scence', 'Viewers']\n"
     ]
    }
   ],
   "source": [
    "dataset = pd.read_csv('tv_show_viewers_datasest.csv')\n",
    "print len(dataset)\n",
    "print list(dataset.columns.values)"
   ]
  },
  {
   "cell_type": "markdown",
   "metadata": {},
   "source": [
    "# Dataset Statistics"
   ]
  },
  {
   "cell_type": "code",
   "execution_count": 5,
   "metadata": {
    "collapsed": false
   },
   "outputs": [
    {
     "data": {
      "text/html": [
       "<div>\n",
       "<table border=\"1\" class=\"dataframe\">\n",
       "  <thead>\n",
       "    <tr style=\"text-align: right;\">\n",
       "      <th></th>\n",
       "      <th>Character1_appeared</th>\n",
       "      <th>Character2_appeared</th>\n",
       "      <th>Character3_appeared</th>\n",
       "      <th>Character4_appeared</th>\n",
       "      <th>Character5_appeared</th>\n",
       "      <th>Fight_scenes</th>\n",
       "      <th>Comedy_scences</th>\n",
       "      <th>Romance_scence</th>\n",
       "      <th>Viewers</th>\n",
       "    </tr>\n",
       "  </thead>\n",
       "  <tbody>\n",
       "    <tr>\n",
       "      <th>count</th>\n",
       "      <td>50.000000</td>\n",
       "      <td>50.000000</td>\n",
       "      <td>50.000000</td>\n",
       "      <td>50.000000</td>\n",
       "      <td>50.000000</td>\n",
       "      <td>50.000000</td>\n",
       "      <td>50.000000</td>\n",
       "      <td>50.000000</td>\n",
       "      <td>50.000000</td>\n",
       "    </tr>\n",
       "    <tr>\n",
       "      <th>mean</th>\n",
       "      <td>3.180000</td>\n",
       "      <td>5.180000</td>\n",
       "      <td>2.300000</td>\n",
       "      <td>4.180000</td>\n",
       "      <td>3.640000</td>\n",
       "      <td>2.580000</td>\n",
       "      <td>7.000000</td>\n",
       "      <td>6.880000</td>\n",
       "      <td>754132.800000</td>\n",
       "    </tr>\n",
       "    <tr>\n",
       "      <th>std</th>\n",
       "      <td>1.955526</td>\n",
       "      <td>1.955526</td>\n",
       "      <td>1.854394</td>\n",
       "      <td>1.955526</td>\n",
       "      <td>1.987307</td>\n",
       "      <td>1.070762</td>\n",
       "      <td>1.106567</td>\n",
       "      <td>1.189066</td>\n",
       "      <td>152197.668355</td>\n",
       "    </tr>\n",
       "    <tr>\n",
       "      <th>min</th>\n",
       "      <td>0.000000</td>\n",
       "      <td>2.000000</td>\n",
       "      <td>0.000000</td>\n",
       "      <td>1.000000</td>\n",
       "      <td>1.000000</td>\n",
       "      <td>1.000000</td>\n",
       "      <td>5.000000</td>\n",
       "      <td>5.000000</td>\n",
       "      <td>354234.000000</td>\n",
       "    </tr>\n",
       "    <tr>\n",
       "      <th>25%</th>\n",
       "      <td>2.000000</td>\n",
       "      <td>4.000000</td>\n",
       "      <td>1.000000</td>\n",
       "      <td>3.000000</td>\n",
       "      <td>2.000000</td>\n",
       "      <td>2.000000</td>\n",
       "      <td>6.000000</td>\n",
       "      <td>6.000000</td>\n",
       "      <td>665438.750000</td>\n",
       "    </tr>\n",
       "    <tr>\n",
       "      <th>50%</th>\n",
       "      <td>3.000000</td>\n",
       "      <td>5.000000</td>\n",
       "      <td>2.000000</td>\n",
       "      <td>4.000000</td>\n",
       "      <td>3.000000</td>\n",
       "      <td>2.500000</td>\n",
       "      <td>7.000000</td>\n",
       "      <td>7.000000</td>\n",
       "      <td>793954.500000</td>\n",
       "    </tr>\n",
       "    <tr>\n",
       "      <th>75%</th>\n",
       "      <td>4.000000</td>\n",
       "      <td>6.000000</td>\n",
       "      <td>3.000000</td>\n",
       "      <td>5.000000</td>\n",
       "      <td>5.000000</td>\n",
       "      <td>3.000000</td>\n",
       "      <td>8.000000</td>\n",
       "      <td>8.000000</td>\n",
       "      <td>887713.000000</td>\n",
       "    </tr>\n",
       "    <tr>\n",
       "      <th>max</th>\n",
       "      <td>8.000000</td>\n",
       "      <td>10.000000</td>\n",
       "      <td>7.000000</td>\n",
       "      <td>9.000000</td>\n",
       "      <td>9.000000</td>\n",
       "      <td>6.000000</td>\n",
       "      <td>9.000000</td>\n",
       "      <td>9.000000</td>\n",
       "      <td>987342.000000</td>\n",
       "    </tr>\n",
       "  </tbody>\n",
       "</table>\n",
       "</div>"
      ],
      "text/plain": [
       "       Character1_appeared  Character2_appeared  Character3_appeared  \\\n",
       "count            50.000000            50.000000            50.000000   \n",
       "mean              3.180000             5.180000             2.300000   \n",
       "std               1.955526             1.955526             1.854394   \n",
       "min               0.000000             2.000000             0.000000   \n",
       "25%               2.000000             4.000000             1.000000   \n",
       "50%               3.000000             5.000000             2.000000   \n",
       "75%               4.000000             6.000000             3.000000   \n",
       "max               8.000000            10.000000             7.000000   \n",
       "\n",
       "       Character4_appeared  Character5_appeared  Fight_scenes  Comedy_scences  \\\n",
       "count            50.000000            50.000000     50.000000       50.000000   \n",
       "mean              4.180000             3.640000      2.580000        7.000000   \n",
       "std               1.955526             1.987307      1.070762        1.106567   \n",
       "min               1.000000             1.000000      1.000000        5.000000   \n",
       "25%               3.000000             2.000000      2.000000        6.000000   \n",
       "50%               4.000000             3.000000      2.500000        7.000000   \n",
       "75%               5.000000             5.000000      3.000000        8.000000   \n",
       "max               9.000000             9.000000      6.000000        9.000000   \n",
       "\n",
       "       Romance_scence        Viewers  \n",
       "count       50.000000      50.000000  \n",
       "mean         6.880000  754132.800000  \n",
       "std          1.189066  152197.668355  \n",
       "min          5.000000  354234.000000  \n",
       "25%          6.000000  665438.750000  \n",
       "50%          7.000000  793954.500000  \n",
       "75%          8.000000  887713.000000  \n",
       "max          9.000000  987342.000000  "
      ]
     },
     "execution_count": 5,
     "metadata": {},
     "output_type": "execute_result"
    }
   ],
   "source": [
    "dataset.describe()"
   ]
  },
  {
   "cell_type": "markdown",
   "metadata": {},
   "source": [
    "# Top  Observations"
   ]
  },
  {
   "cell_type": "code",
   "execution_count": 6,
   "metadata": {
    "collapsed": false
   },
   "outputs": [
    {
     "data": {
      "text/html": [
       "<div>\n",
       "<table border=\"1\" class=\"dataframe\">\n",
       "  <thead>\n",
       "    <tr style=\"text-align: right;\">\n",
       "      <th></th>\n",
       "      <th>Episode</th>\n",
       "      <th>Character1_appeared</th>\n",
       "      <th>Character2_appeared</th>\n",
       "      <th>Character3_appeared</th>\n",
       "      <th>Character4_appeared</th>\n",
       "      <th>Character5_appeared</th>\n",
       "      <th>Fight_scenes</th>\n",
       "      <th>Comedy_scences</th>\n",
       "      <th>Romance_scence</th>\n",
       "      <th>Viewers</th>\n",
       "    </tr>\n",
       "  </thead>\n",
       "  <tbody>\n",
       "    <tr>\n",
       "      <th>0</th>\n",
       "      <td>Episode001</td>\n",
       "      <td>3</td>\n",
       "      <td>5</td>\n",
       "      <td>2</td>\n",
       "      <td>4</td>\n",
       "      <td>4</td>\n",
       "      <td>3</td>\n",
       "      <td>7</td>\n",
       "      <td>9</td>\n",
       "      <td>888983</td>\n",
       "    </tr>\n",
       "    <tr>\n",
       "      <th>1</th>\n",
       "      <td>Episode002</td>\n",
       "      <td>4</td>\n",
       "      <td>6</td>\n",
       "      <td>3</td>\n",
       "      <td>5</td>\n",
       "      <td>3</td>\n",
       "      <td>4</td>\n",
       "      <td>8</td>\n",
       "      <td>7</td>\n",
       "      <td>888737</td>\n",
       "    </tr>\n",
       "    <tr>\n",
       "      <th>2</th>\n",
       "      <td>Episode003</td>\n",
       "      <td>2</td>\n",
       "      <td>4</td>\n",
       "      <td>1</td>\n",
       "      <td>3</td>\n",
       "      <td>5</td>\n",
       "      <td>2</td>\n",
       "      <td>6</td>\n",
       "      <td>8</td>\n",
       "      <td>887743</td>\n",
       "    </tr>\n",
       "    <tr>\n",
       "      <th>3</th>\n",
       "      <td>Episode004</td>\n",
       "      <td>4</td>\n",
       "      <td>6</td>\n",
       "      <td>3</td>\n",
       "      <td>5</td>\n",
       "      <td>2</td>\n",
       "      <td>5</td>\n",
       "      <td>8</td>\n",
       "      <td>7</td>\n",
       "      <td>808437</td>\n",
       "    </tr>\n",
       "    <tr>\n",
       "      <th>4</th>\n",
       "      <td>Episode005</td>\n",
       "      <td>5</td>\n",
       "      <td>7</td>\n",
       "      <td>4</td>\n",
       "      <td>6</td>\n",
       "      <td>4</td>\n",
       "      <td>2</td>\n",
       "      <td>6</td>\n",
       "      <td>6</td>\n",
       "      <td>777626</td>\n",
       "    </tr>\n",
       "  </tbody>\n",
       "</table>\n",
       "</div>"
      ],
      "text/plain": [
       "      Episode  Character1_appeared  Character2_appeared  Character3_appeared  \\\n",
       "0  Episode001                    3                    5                    2   \n",
       "1  Episode002                    4                    6                    3   \n",
       "2  Episode003                    2                    4                    1   \n",
       "3  Episode004                    4                    6                    3   \n",
       "4  Episode005                    5                    7                    4   \n",
       "\n",
       "   Character4_appeared  Character5_appeared  Fight_scenes  Comedy_scences  \\\n",
       "0                    4                    4             3               7   \n",
       "1                    5                    3             4               8   \n",
       "2                    3                    5             2               6   \n",
       "3                    5                    2             5               8   \n",
       "4                    6                    4             2               6   \n",
       "\n",
       "   Romance_scence  Viewers  \n",
       "0               9   888983  \n",
       "1               7   888737  \n",
       "2               8   887743  \n",
       "3               7   808437  \n",
       "4               6   777626  "
      ]
     },
     "execution_count": 6,
     "metadata": {},
     "output_type": "execute_result"
    }
   ],
   "source": [
    "dataset.head()"
   ]
  },
  {
   "cell_type": "markdown",
   "metadata": {},
   "source": [
    "# Split Dataset"
   ]
  },
  {
   "cell_type": "code",
   "execution_count": 7,
   "metadata": {
    "collapsed": true
   },
   "outputs": [],
   "source": [
    "def split_data(dataset):\n",
    "    \n",
    "    features = []\n",
    "    target = []\n",
    "    for char1,char2,char3,char4,char5,fight_scene,comedy_scence,romance_scence,viewers_count in zip(\n",
    "                                dataset['Character1_appeared'],\n",
    "                                 dataset['Character2_appeared'],\n",
    "                                 dataset['Character3_appeared'],\n",
    "                                 dataset['Character4_appeared'],\n",
    "                                 dataset['Character5_appeared'],\n",
    "                                 dataset['Fight_scenes'],\n",
    "                                 dataset['Comedy_scences'],\n",
    "                                 dataset['Romance_scence'],\n",
    "                                 dataset['Viewers']\n",
    "                                ):\n",
    "        features.append([char1,char2,char3,\n",
    "                                   char4,char5,fight_scene,\n",
    "                                   comedy_scence,romance_scence])\n",
    "        target.append(viewers_count)\n",
    "        \n",
    "    return features,target"
   ]
  },
  {
   "cell_type": "code",
   "execution_count": 8,
   "metadata": {
    "collapsed": false
   },
   "outputs": [
    {
     "name": "stdout",
     "output_type": "stream",
     "text": [
      "[[3, 5, 2, 4, 4, 3, 7, 9], [4, 6, 3, 5, 3, 4, 8, 7], [2, 4, 1, 3, 5, 2, 6, 8], [4, 6, 3, 5, 2, 5, 8, 7], [5, 7, 4, 6, 4, 2, 6, 6], [2, 4, 1, 3, 1, 1, 7, 7], [1, 3, 0, 2, 8, 4, 8, 6], [0, 2, 3, 1, 5, 3, 6, 5], [2, 4, 1, 3, 3, 2, 9, 6], [3, 5, 2, 4, 9, 6, 7, 5], [4, 6, 3, 5, 3, 3, 6, 7], [1, 3, 0, 2, 4, 2, 8, 6], [7, 9, 6, 8, 5, 4, 7, 5], [3, 5, 2, 4, 2, 2, 5, 8], [2, 4, 1, 3, 6, 3, 6, 5], [4, 6, 3, 5, 1, 1, 7, 6], [5, 7, 4, 6, 8, 3, 5, 5], [6, 8, 5, 7, 2, 2, 8, 7], [7, 9, 6, 8, 3, 4, 5, 6], [1, 3, 0, 2, 4, 1, 8, 8], [3, 5, 2, 4, 1, 3, 7, 9], [6, 8, 5, 7, 6, 2, 6, 6], [3, 5, 2, 4, 3, 1, 9, 9], [7, 9, 6, 8, 2, 4, 5, 7], [2, 4, 1, 3, 8, 3, 6, 8], [4, 6, 3, 5, 3, 2, 7, 6], [3, 5, 2, 4, 4, 3, 8, 7], [5, 7, 4, 6, 5, 1, 9, 6], [2, 4, 1, 3, 2, 4, 8, 8], [0, 2, 1, 1, 5, 1, 8, 6], [3, 5, 2, 4, 3, 2, 8, 7], [4, 6, 3, 5, 1, 2, 7, 8], [1, 3, 0, 2, 2, 3, 6, 6], [2, 4, 1, 3, 6, 1, 7, 7], [5, 7, 4, 6, 4, 2, 6, 9], [2, 4, 1, 3, 3, 3, 8, 7], [1, 3, 0, 2, 2, 2, 6, 6], [4, 6, 3, 5, 4, 3, 7, 8], [3, 5, 2, 4, 3, 2, 6, 6], [2, 4, 1, 3, 2, 3, 7, 7], [1, 3, 0, 2, 1, 2, 8, 6], [5, 7, 4, 6, 6, 3, 6, 5], [2, 4, 1, 3, 4, 2, 7, 6], [1, 3, 0, 2, 3, 3, 8, 8], [6, 8, 5, 7, 2, 2, 9, 9], [2, 4, 1, 3, 5, 3, 6, 8], [8, 10, 7, 9, 4, 2, 7, 7], [2, 4, 1, 3, 3, 3, 8, 8], [1, 3, 0, 2, 2, 2, 6, 7], [3, 5, 2, 4, 1, 3, 7, 8]]\n",
      "[888983, 888737, 887743, 808437, 777626, 877672, 799867, 656765, 798732, 506556, 696453, 621321, 453234, 897653, 443535, 723454, 354234, 808324, 432534, 886543, 899876, 564533, 908654, 876553, 896574, 723454, 812312, 709876, 897654, 708983, 762342, 875644, 654564, 789564, 921084, 897423, 552342, 798345, 665434, 708345, 609834, 560973, 665453, 987342, 907823, 887623, 708242, 898723, 765434, 883234]\n"
     ]
    }
   ],
   "source": [
    "train_features,train_target = split_data(dataset)\n",
    "\n",
    "print train_features\n",
    "print train_target"
   ]
  },
  {
   "cell_type": "markdown",
   "metadata": {},
   "source": [
    "# Let's Bulid Linear Regression Model"
   ]
  },
  {
   "cell_type": "code",
   "execution_count": 9,
   "metadata": {
    "collapsed": false
   },
   "outputs": [
    {
     "data": {
      "text/plain": [
       "LinearRegression(copy_X=True, fit_intercept=True, n_jobs=1, normalize=False)"
      ]
     },
     "execution_count": 9,
     "metadata": {},
     "output_type": "execute_result"
    }
   ],
   "source": [
    "regr = linear_model.LinearRegression()\n",
    "regr.fit(train_features,train_target)"
   ]
  },
  {
   "cell_type": "markdown",
   "metadata": {},
   "source": [
    "# Predicting Viewers for new Episode"
   ]
  },
  {
   "cell_type": "code",
   "execution_count": 12,
   "metadata": {
    "collapsed": false
   },
   "outputs": [
    {
     "name": "stdout",
     "output_type": "stream",
     "text": [
      "[ 978420.73406154]\n",
      "[ 236792.01831309]\n"
     ]
    }
   ],
   "source": [
    "episode51_features = [4, 6, 3, 6, 3, 4, 8, 9]\n",
    "print regr.predict(episode51_features)\n",
    "\n",
    "episode52_features = [4, 6, 3, 6, 3, 6, 2, 3]\n",
    "print regr.predict(episode52_features)\n"
   ]
  },
  {
   "cell_type": "code",
   "execution_count": null,
   "metadata": {
    "collapsed": true
   },
   "outputs": [],
   "source": []
  }
 ],
 "metadata": {
  "kernelspec": {
   "display_name": "Python 2",
   "language": "python",
   "name": "python2"
  },
  "language_info": {
   "codemirror_mode": {
    "name": "ipython",
    "version": 2
   },
   "file_extension": ".py",
   "mimetype": "text/x-python",
   "name": "python",
   "nbconvert_exporter": "python",
   "pygments_lexer": "ipython2",
   "version": "2.7.10"
  }
 },
 "nbformat": 4,
 "nbformat_minor": 0
}
