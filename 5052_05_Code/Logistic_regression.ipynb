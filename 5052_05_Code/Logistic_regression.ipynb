{
 "cells": [
  {
   "cell_type": "markdown",
   "metadata": {},
   "source": [
    "# About ANES 1996 Dataset"
   ]
  },
  {
   "cell_type": "markdown",
   "metadata": {},
   "source": [
    "ANES 1996 dataset  is a subset of the American National Election Studies of 1996. "
   ]
  },
  {
   "cell_type": "markdown",
   "metadata": {},
   "source": [
    "# Import  Libraries"
   ]
  },
  {
   "cell_type": "code",
   "execution_count": 1,
   "metadata": {
    "collapsed": true
   },
   "outputs": [],
   "source": [
    "import pandas as pd\n",
    "from sklearn.linear_model import LogisticRegression\n",
    "from sklearn.cross_validation import train_test_split\n",
    "from sklearn import metrics"
   ]
  },
  {
   "cell_type": "markdown",
   "metadata": {},
   "source": [
    "# Load ANES 1996 Dataset"
   ]
  },
  {
   "cell_type": "code",
   "execution_count": 2,
   "metadata": {
    "collapsed": true
   },
   "outputs": [],
   "source": [
    "anes_dataset = pd.read_csv('anes_dataset.csv')"
   ]
  },
  {
   "cell_type": "markdown",
   "metadata": {},
   "source": [
    "# Attributes Description"
   ]
  },
  {
   "cell_type": "code",
   "execution_count": 3,
   "metadata": {
    "collapsed": false
   },
   "outputs": [
    {
     "name": "stdout",
     "output_type": "stream",
     "text": [
      "Number of Obseravations:  944\n",
      "Number of Features:  10\n"
     ]
    }
   ],
   "source": [
    "print \"Number of Obseravations: \",anes_dataset.shape[0]\n",
    "print \"Number of Features: \", anes_dataset.shape[1]"
   ]
  },
  {
   "cell_type": "code",
   "execution_count": 4,
   "metadata": {
    "collapsed": false
   },
   "outputs": [
    {
     "name": "stdout",
     "output_type": "stream",
     "text": [
      "Features:  ['popul' 'TVnews' 'selfLR' 'ClinLR' 'DoleLR' 'PID' 'age' 'educ' 'income'\n",
      " 'vote']\n"
     ]
    }
   ],
   "source": [
    "print \"Features: \", anes_dataset.columns.values"
   ]
  },
  {
   "cell_type": "raw",
   "metadata": {},
   "source": [
    "### popul:\n",
    "Census place population in 1000s\n",
    "\n",
    "### TVnews:\n",
    "Number of times per week that respondent watches TV news.\n",
    "        \n",
    "### PID:\n",
    "Party identification of respondent.\n",
    "\n",
    "0 - Strong Democrat </n>\n",
    "\n",
    "1 - Weak Democrat\n",
    "\n",
    "2 - Independent-Democrat\n",
    "\n",
    "3 - Independent-Indpendent\n",
    "4 - Independent-Republican\n",
    "5 - Weak Republican\n",
    "6 - Strong Republican\n",
    "\n",
    "###age : \n",
    "Age of respondent.\n",
    "\n",
    "###educ - Education level of respondent\n",
    "1 - 1-8 grades\n",
    "2 - Some high school\n",
    "3 - High school graduate\n",
    "4 - Some college\n",
    "5 - College degree\n",
    "6 - Master's degree\n",
    "7 - PhD\n",
    "\n",
    "### income - Income of household\n",
    "   1  - None or less than $2,999\n",
    "    2  - $3,000-$4,999\n",
    "    3  - $5,000-$6,999\n",
    "    4  - $7,000-$8,999\n",
    "    5  - $9,000-$9,999\n",
    "    6  - $10,000-$10,999\n",
    "    7  - $11,000-$11,999\n",
    "    8  - $12,000-$12,999\n",
    "    9  - $13,000-$13,999\n",
    "    10 - $14,000-$14.999\n",
    "    11 - $15,000-$16,999\n",
    "    12 - $17,000-$19,999\n",
    "    13 - $20,000-$21,999\n",
    "    14 - $22,000-$24,999\n",
    "    15 - $25,000-$29,999\n",
    "    16 - $30,000-$34,999\n",
    "    17 - $35,000-$39,999\n",
    "    18 - $40,000-$44,999\n",
    "    19 - $45,000-$49,999\n",
    "    20 - $50,000-$59,999\n",
    "    21 - $60,000-$74,999\n",
    "    22 - $75,000-89,999\n",
    "    23 - $90,000-$104,999\n",
    "    24 - $105,000 and over\n",
    "\n",
    "    \n",
    "The following 3 variables all take the values:\n",
    "    1 - Extremely liberal\n",
    "    2 - Liberal\n",
    "    3 - Slightly liberal\n",
    "    4 - Moderate\n",
    "    5 - Slightly conservative\n",
    "    6 - Conservative\n",
    "    7 - Extremely Conservative\n",
    "    \n",
    "selfLR - Respondent's self-reported political leanings from \"Left\"\n",
    "    to \"Right\".\n",
    "    \n",
    "ClinLR - Respondents impression of Bill Clinton's political\n",
    "    leanings from \"Left\" to \"Right\".\n",
    "    \n",
    "DoleLR  - Respondents impression of Bob Dole's political leanings\n",
    "    from \"Left\" to \"Right\".\n",
    "    \n",
    " vote - Expected vote\n",
    "    0 - Clinton\n",
    "    1 - Dole"
   ]
  },
  {
   "cell_type": "markdown",
   "metadata": {},
   "source": [
    "# Basic Statistics"
   ]
  },
  {
   "cell_type": "code",
   "execution_count": 5,
   "metadata": {
    "collapsed": false
   },
   "outputs": [
    {
     "data": {
      "text/html": [
       "<div>\n",
       "<table border=\"1\" class=\"dataframe\">\n",
       "  <thead>\n",
       "    <tr style=\"text-align: right;\">\n",
       "      <th></th>\n",
       "      <th>popul</th>\n",
       "      <th>TVnews</th>\n",
       "      <th>selfLR</th>\n",
       "      <th>ClinLR</th>\n",
       "      <th>DoleLR</th>\n",
       "      <th>PID</th>\n",
       "      <th>age</th>\n",
       "      <th>educ</th>\n",
       "      <th>income</th>\n",
       "      <th>vote</th>\n",
       "    </tr>\n",
       "  </thead>\n",
       "  <tbody>\n",
       "    <tr>\n",
       "      <th>count</th>\n",
       "      <td>944.000000</td>\n",
       "      <td>944.000000</td>\n",
       "      <td>944.000000</td>\n",
       "      <td>944.000000</td>\n",
       "      <td>944.000000</td>\n",
       "      <td>944.000000</td>\n",
       "      <td>944.000000</td>\n",
       "      <td>944.000000</td>\n",
       "      <td>944.000000</td>\n",
       "      <td>944.000000</td>\n",
       "    </tr>\n",
       "    <tr>\n",
       "      <th>mean</th>\n",
       "      <td>306.381356</td>\n",
       "      <td>3.727754</td>\n",
       "      <td>4.325212</td>\n",
       "      <td>2.939619</td>\n",
       "      <td>5.394068</td>\n",
       "      <td>2.842161</td>\n",
       "      <td>47.043432</td>\n",
       "      <td>4.565678</td>\n",
       "      <td>16.331568</td>\n",
       "      <td>0.416314</td>\n",
       "    </tr>\n",
       "    <tr>\n",
       "      <th>std</th>\n",
       "      <td>1082.606745</td>\n",
       "      <td>2.677235</td>\n",
       "      <td>1.438436</td>\n",
       "      <td>1.383725</td>\n",
       "      <td>1.269349</td>\n",
       "      <td>2.273337</td>\n",
       "      <td>16.423130</td>\n",
       "      <td>1.599287</td>\n",
       "      <td>5.974781</td>\n",
       "      <td>0.493208</td>\n",
       "    </tr>\n",
       "    <tr>\n",
       "      <th>min</th>\n",
       "      <td>0.000000</td>\n",
       "      <td>0.000000</td>\n",
       "      <td>1.000000</td>\n",
       "      <td>1.000000</td>\n",
       "      <td>1.000000</td>\n",
       "      <td>0.000000</td>\n",
       "      <td>19.000000</td>\n",
       "      <td>1.000000</td>\n",
       "      <td>1.000000</td>\n",
       "      <td>0.000000</td>\n",
       "    </tr>\n",
       "    <tr>\n",
       "      <th>25%</th>\n",
       "      <td>1.000000</td>\n",
       "      <td>1.000000</td>\n",
       "      <td>3.000000</td>\n",
       "      <td>2.000000</td>\n",
       "      <td>5.000000</td>\n",
       "      <td>1.000000</td>\n",
       "      <td>34.000000</td>\n",
       "      <td>3.000000</td>\n",
       "      <td>14.000000</td>\n",
       "      <td>0.000000</td>\n",
       "    </tr>\n",
       "    <tr>\n",
       "      <th>50%</th>\n",
       "      <td>22.000000</td>\n",
       "      <td>3.000000</td>\n",
       "      <td>4.000000</td>\n",
       "      <td>3.000000</td>\n",
       "      <td>6.000000</td>\n",
       "      <td>2.000000</td>\n",
       "      <td>44.000000</td>\n",
       "      <td>4.000000</td>\n",
       "      <td>17.000000</td>\n",
       "      <td>0.000000</td>\n",
       "    </tr>\n",
       "    <tr>\n",
       "      <th>75%</th>\n",
       "      <td>110.000000</td>\n",
       "      <td>7.000000</td>\n",
       "      <td>6.000000</td>\n",
       "      <td>4.000000</td>\n",
       "      <td>6.000000</td>\n",
       "      <td>5.000000</td>\n",
       "      <td>58.000000</td>\n",
       "      <td>6.000000</td>\n",
       "      <td>21.000000</td>\n",
       "      <td>1.000000</td>\n",
       "    </tr>\n",
       "    <tr>\n",
       "      <th>max</th>\n",
       "      <td>7300.000000</td>\n",
       "      <td>7.000000</td>\n",
       "      <td>7.000000</td>\n",
       "      <td>7.000000</td>\n",
       "      <td>7.000000</td>\n",
       "      <td>6.000000</td>\n",
       "      <td>91.000000</td>\n",
       "      <td>7.000000</td>\n",
       "      <td>24.000000</td>\n",
       "      <td>1.000000</td>\n",
       "    </tr>\n",
       "  </tbody>\n",
       "</table>\n",
       "</div>"
      ],
      "text/plain": [
       "             popul      TVnews      selfLR      ClinLR      DoleLR  \\\n",
       "count   944.000000  944.000000  944.000000  944.000000  944.000000   \n",
       "mean    306.381356    3.727754    4.325212    2.939619    5.394068   \n",
       "std    1082.606745    2.677235    1.438436    1.383725    1.269349   \n",
       "min       0.000000    0.000000    1.000000    1.000000    1.000000   \n",
       "25%       1.000000    1.000000    3.000000    2.000000    5.000000   \n",
       "50%      22.000000    3.000000    4.000000    3.000000    6.000000   \n",
       "75%     110.000000    7.000000    6.000000    4.000000    6.000000   \n",
       "max    7300.000000    7.000000    7.000000    7.000000    7.000000   \n",
       "\n",
       "              PID         age        educ      income        vote  \n",
       "count  944.000000  944.000000  944.000000  944.000000  944.000000  \n",
       "mean     2.842161   47.043432    4.565678   16.331568    0.416314  \n",
       "std      2.273337   16.423130    1.599287    5.974781    0.493208  \n",
       "min      0.000000   19.000000    1.000000    1.000000    0.000000  \n",
       "25%      1.000000   34.000000    3.000000   14.000000    0.000000  \n",
       "50%      2.000000   44.000000    4.000000   17.000000    0.000000  \n",
       "75%      5.000000   58.000000    6.000000   21.000000    1.000000  \n",
       "max      6.000000   91.000000    7.000000   24.000000    1.000000  "
      ]
     },
     "execution_count": 5,
     "metadata": {},
     "output_type": "execute_result"
    }
   ],
   "source": [
    "anes_dataset.describe()"
   ]
  },
  {
   "cell_type": "markdown",
   "metadata": {},
   "source": [
    "# Split Datasets"
   ]
  },
  {
   "cell_type": "code",
   "execution_count": 6,
   "metadata": {
    "collapsed": false
   },
   "outputs": [
    {
     "name": "stdout",
     "output_type": "stream",
     "text": [
      "['popul', 'TVnews', 'selfLR', 'ClinLR', 'DoleLR', 'PID', 'age', 'educ', 'income', 'vote']\n",
      "Features:  ['popul', 'TVnews', 'selfLR', 'ClinLR', 'DoleLR', 'PID', 'age', 'educ', 'income']\n",
      "Target:  vote\n",
      "x_train Shape:  (566, 9)\n",
      "y_train Shape:  (566,)\n",
      "x_test Shape:  (378, 9)\n",
      "y_test Shape:  (378,)\n"
     ]
    }
   ],
   "source": [
    "headers = list(anes_dataset.columns.values)\n",
    "print headers\n",
    "features = headers[:-1]\n",
    "target = headers[-1]\n",
    "print \"Features: \", features\n",
    "print \"Target: \", target\n",
    "\n",
    "# Split datast to train and test dataset\n",
    "x_train,x_test,y_train,y_test = train_test_split(anes_dataset[features],anes_dataset[target],test_size = 0.4)\n",
    "\n",
    "print \"x_train Shape: \", x_train.shape\n",
    "print \"y_train Shape: \", y_train.shape\n",
    "print \"x_test Shape: \", x_test.shape\n",
    "print \"y_test Shape: \", y_test.shape"
   ]
  },
  {
   "cell_type": "markdown",
   "metadata": {},
   "source": [
    "# Logistic Regression model with 4 features"
   ]
  },
  {
   "cell_type": "code",
   "execution_count": 7,
   "metadata": {
    "collapsed": false
   },
   "outputs": [
    {
     "name": "stdout",
     "output_type": "stream",
     "text": [
      "Train Accuracy:  0.598939929329\n"
     ]
    }
   ],
   "source": [
    "# Logistic Regressio model with 4 features\n",
    "features_4 = ['TVnews','age','educ','income']\n",
    "\n",
    "# Logistic regression model instance to fit with Selected 4 features and target (Vote) In this case\n",
    "model_with_4_features = LogisticRegression()\n",
    "model_with_4_features.fit(x_train[features_4], y_train)\n",
    "\n",
    "# check the accuracy on the train dataset\n",
    "train_accuracy = model_with_4_features.score(x_train[features_4], y_train)\n",
    "print \"Train Accuracy: \" , train_accuracy"
   ]
  },
  {
   "cell_type": "markdown",
   "metadata": {},
   "source": [
    "# Logistic Regression model with all features"
   ]
  },
  {
   "cell_type": "code",
   "execution_count": 8,
   "metadata": {
    "collapsed": false
   },
   "outputs": [
    {
     "name": "stdout",
     "output_type": "stream",
     "text": [
      "Train Accuracy:  0.913427561837\n"
     ]
    }
   ],
   "source": [
    "# Logistic Regression model instance to fit with all features.\n",
    "model_with_all_features = LogisticRegression()\n",
    "model_with_all_features.fit(x_train,y_train)\n",
    "\n",
    "# Check the accuracy on the train dataset\n",
    "train_accuracy = model_with_all_features.score(x_train,y_train)\n",
    "print \"Train Accuracy: \", train_accuracy"
   ]
  },
  {
   "cell_type": "markdown",
   "metadata": {},
   "source": [
    "# Prediction with both the Models"
   ]
  },
  {
   "cell_type": "code",
   "execution_count": 9,
   "metadata": {
    "collapsed": false
   },
   "outputs": [
    {
     "name": "stdout",
     "output_type": "stream",
     "text": [
      "     TVnews  age  educ  income\n",
      "786       7   45     6      22\n",
      "     popul  TVnews  selfLR  ClinLR  DoleLR  PID  age  educ  income\n",
      "786     16       7       6       2       6    6   45     6      22\n",
      "[0]\n",
      "[1]\n"
     ]
    }
   ],
   "source": [
    "test_observation1_for_4_features_model = x_test[features_4][:1]\n",
    "print test_observation1_for_4_features_model\n",
    "test_observation1_for_all_features_model = x_test[:1]\n",
    "print test_observation1_for_all_features_model\n",
    "\n",
    "print model_with_4_features.predict(test_observation1_for_4_features_model)\n",
    "print model_with_all_features.predict(test_observation1_for_all_features_model)"
   ]
  },
  {
   "cell_type": "markdown",
   "metadata": {},
   "source": [
    "# Accuracies of both the models on Test Dataset"
   ]
  },
  {
   "cell_type": "code",
   "execution_count": 10,
   "metadata": {
    "collapsed": false
   },
   "outputs": [
    {
     "name": "stdout",
     "output_type": "stream",
     "text": [
      "Model with 4 features test accuracy:  0.597883597884\n",
      "model_with_all_features_test_accuracy:  0.910052910053\n"
     ]
    }
   ],
   "source": [
    "\n",
    "# Prediction on test dataset with fitted model with 4 features\n",
    "model_with_4_features_predition = model_with_4_features.predict(x_test[features_4])\n",
    "model_with_4_features_test_accuracy = metrics.accuracy_score(y_test,model_with_4_features_predition)\n",
    "\n",
    "# Prediction on test dataset with fitted model with all features\n",
    "model_with_all_features_predition = model_with_all_features.predict(x_test)\n",
    "model_with_all_features_test_accuracy = metrics.accuracy_score(y_test,model_with_all_features_predition\n",
    "                                                              )\n",
    "\n",
    "print \"Model with 4 features test accuracy: \", model_with_4_features_test_accuracy\n",
    "print \"model_with_all_features_test_accuracy: \", model_with_all_features_test_accuracy\n"
   ]
  },
  {
   "cell_type": "markdown",
   "metadata": {},
   "source": [
    "# Thank you.."
   ]
  },
  {
   "cell_type": "code",
   "execution_count": null,
   "metadata": {
    "collapsed": true
   },
   "outputs": [],
   "source": []
  },
  {
   "cell_type": "code",
   "execution_count": null,
   "metadata": {
    "collapsed": true
   },
   "outputs": [],
   "source": []
  }
 ],
 "metadata": {
  "kernelspec": {
   "display_name": "Python 2",
   "language": "python",
   "name": "python2"
  },
  "language_info": {
   "codemirror_mode": {
    "name": "ipython",
    "version": 2
   },
   "file_extension": ".py",
   "mimetype": "text/x-python",
   "name": "python",
   "nbconvert_exporter": "python",
   "pygments_lexer": "ipython2",
   "version": "2.7.10"
  }
 },
 "nbformat": 4,
 "nbformat_minor": 0
}
